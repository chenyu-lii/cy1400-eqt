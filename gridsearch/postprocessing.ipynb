{
 "cells": [
  {
   "cell_type": "code",
   "execution_count": 4,
   "metadata": {},
   "outputs": [],
   "source": [
    "# imports\n",
    "import pandas as pd\n",
    "import numpy as np\n",
    "import matplotlib.pyplot as plt\n",
    "\n",
    "# show histogram of arrival times, shown mean and N\n",
    "# show an integral plot s.t. can see at like 0.5 s what percent of the data is represented\n",
    "# find no. of edge cases (i.e. located on the grid boundary s.t. it probably needs to be re-run)\n",
    "\n",
    "# for non-edge cases, find the distribution of distances between REAL location and gridsearch location (and hypoDD location)\n",
    "\n",
    "# for the gridsearch with high std, print the IDs and look at the WF, they could be interesting outliers\n",
    "\n",
    "df = pd.read_csv(\"23aug_5julafterREAL_gridsearch.csv\")\n",
    "\n",
    "min_times = df[\"min_std\"].tolist()\n",
    "\n"
   ]
  },
  {
   "cell_type": "code",
   "execution_count": 6,
   "metadata": {},
   "outputs": [
    {
     "data": {
      "image/png": "[encoded data removed]",
      "text/plain": "<Figure size 432x288 with 1 Axes>"
     },
     "metadata": {
      "needs_background": "light"
     },
     "output_type": "display_data"
    }
   ],
   "source": [
    "plt.hist(min_times, bins = np.arange(0,3.5,0.05))\n",
    "plt.show()\n",
    "print(len(min_times))"
   ]
  }
 ],
 "metadata": {
  "kernelspec": {
   "display_name": "Python 3",
   "language": "python",
   "name": "python3"
  },
  "language_info": {
   "codemirror_mode": {
    "name": "ipython",
    "version": 3
   },
   "file_extension": ".py",
   "mimetype": "text/x-python",
   "name": "python",
   "nbconvert_exporter": "python",
   "pygments_lexer": "ipython3",
   "version": "3.9.6"
  },
  "metadata": {
   "interpreter": {
    "hash": "e7370f93d1d0cde622a1f8e1c04877d8463912d04d973331ad4851f04de6915a"
   }
  },
  "orig_nbformat": 2
 },
 "nbformat": 4,
 "nbformat_minor": 2
}